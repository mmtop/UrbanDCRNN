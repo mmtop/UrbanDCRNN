{
 "cells": [
  {
   "cell_type": "code",
   "execution_count": 2,
   "metadata": {},
   "outputs": [
    {
     "name": "stdout",
     "output_type": "stream",
     "text": [
      "Generating training data\n",
      "x shape:  (2837, 36, 123, 2) , y shape:  (2837, 8, 123, 2)\n",
      "train x:  (1986, 36, 123, 2) y: (1986, 8, 123, 2)\n",
      "val x:  (284, 36, 123, 2) y: (284, 8, 123, 2)\n",
      "test x:  (567, 36, 123, 2) y: (567, 8, 123, 2)\n"
     ]
    }
   ],
   "source": [
    "!python -m scripts.generate_training_data --output_dir=data/DH --traffic_df_filename=data/DH.h5 --node_number=123 --horizon=8 --seq_len=36"
   ]
  },
  {
   "cell_type": "code",
   "execution_count": 6,
   "metadata": {},
   "outputs": [
    {
     "name": "stdout",
     "output_type": "stream",
     "text": [
      "2023-05-10 21:07:56,809 - INFO - Log directory: data/model\\dcrnn_DR_0_h_8_64_lr_0.01_bs_64_0510210756/\n",
      "2023-05-10 21:07:58,326 - INFO - Model created\n",
      "2023-05-10 21:08:00,165 - INFO - Loaded model at 93\n",
      "MAE : 6.39834467569987 (0.8317188190969071)\n",
      "RMSE : 10.350699240079003 (0.9500152397889089)\n",
      "MAPE : 1972711.9583333333 (834504.0504515227)\n",
      "Predictions saved as data/dcrnn_denhaag_S36_predictions.npz.\n"
     ]
    }
   ],
   "source": [
    "!python run_demo_pytorch_losses.py --use_cpu_only=True --config_filename=data/model/dcrnn_dh_s36.yaml --output_filename=data/dcrnn_denhaag_S36_predictions.npz"
   ]
  },
  {
   "attachments": {},
   "cell_type": "markdown",
   "metadata": {},
   "source": [
    "Comment: MAPE blows up because zero values in the ground truth and prediciton data are masked with a very small positive float number. Manual evaluation in #8_Evaluate.ipynb uses a maskedMAPE that computes a Mean Relative Percentage Error for ground truth values smaller than 1, relative with respect to the mean ground truth value from the given subset of samples, and the conventional MAPE for all other samples."
   ]
  },
  {
   "cell_type": "code",
   "execution_count": 8,
   "metadata": {},
   "outputs": [
    {
     "name": "stdout",
     "output_type": "stream",
     "text": [
      "2023-05-10 21:18:16,367 - INFO - Log directory: data/model\\dcrnn_DR_2_h_8_64-64_lr_0.01_bs_64_0510211816/\n",
      "2023-05-10 21:18:17,585 - INFO - Model created\n",
      "2023-05-10 21:18:51,905 - INFO - Loaded model at 83\n",
      "MAE : 5.134947114520603 (0.8638060347398779)\n",
      "RMSE : 8.020286085607696 (1.0067534689770206)\n",
      "MAPE : 2074905.5555555555 (775957.3029861291)\n",
      "Predictions saved as data/dcrnn_denhaag_S36_DR2_RNN2_predictions.npz.\n"
     ]
    }
   ],
   "source": [
    "!python run_demo_pytorch_losses.py --use_cpu_only=True --config_filename=data/model/dcrnn_dh_S36_DR2_RNN2.yaml --output_filename=data/dcrnn_denhaag_S36_DR2_RNN2_predictions.npz"
   ]
  }
 ],
 "metadata": {
  "kernelspec": {
   "display_name": "dcrnn",
   "language": "python",
   "name": "python3"
  },
  "language_info": {
   "codemirror_mode": {
    "name": "ipython",
    "version": 3
   },
   "file_extension": ".py",
   "mimetype": "text/x-python",
   "name": "python",
   "nbconvert_exporter": "python",
   "pygments_lexer": "ipython3",
   "version": "3.10.9"
  },
  "orig_nbformat": 4
 },
 "nbformat": 4,
 "nbformat_minor": 2
}
