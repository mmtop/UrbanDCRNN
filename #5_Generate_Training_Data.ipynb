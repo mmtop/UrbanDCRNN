{
  "cells": [
    {
      "cell_type": "code",
      "execution_count": 2,
      "metadata": {
        "colab": {
          "base_uri": "https://localhost:8080/"
        },
        "id": "o9Mieb4TQaCm",
        "outputId": "0ef470cd-8092-4d73-dea8-4ba0a3f00907"
      },
      "outputs": [],
      "source": [
        "!python -m scripts.gen_adj_mx  --sensor_ids_filename=data/sensor_graph/graph_sensor_ids.txt --normalized_k=0.1\\\n",
        "    --output_pkl_filename=data/sensor_graph/adj_mx.pkl"
      ]
    },
    {
      "cell_type": "code",
      "execution_count": 1,
      "metadata": {
        "id": "R29C-E_5QszL"
      },
      "outputs": [
        {
          "name": "stdout",
          "output_type": "stream",
          "text": [
            "Generating training data\n",
            "x shape:  (2875, 4, 123, 2) , y shape:  (2875, 2, 123, 2)\n",
            "train x:  (2012, 4, 123, 2) y: (2012, 2, 123, 2)\n",
            "val x:  (288, 4, 123, 2) y: (288, 2, 123, 2)\n",
            "test x:  (575, 4, 123, 2) y: (575, 2, 123, 2)\n"
          ]
        }
      ],
      "source": [
        "!python -m scripts.generate_training_data --output_dir=data/DH --traffic_df_filename=data/DH.h5 --node_number=123 --horizon=2 --seq_len=4\n"
      ]
    }
  ],
  "metadata": {
    "colab": {
      "authorship_tag": "ABX9TyMu8+ykVFal9aEPAyMFf9lD",
      "include_colab_link": true,
      "provenance": []
    },
    "kernelspec": {
      "display_name": "Python 3",
      "name": "python3"
    },
    "language_info": {
      "codemirror_mode": {
        "name": "ipython",
        "version": 3
      },
      "file_extension": ".py",
      "mimetype": "text/x-python",
      "name": "python",
      "nbconvert_exporter": "python",
      "pygments_lexer": "ipython3",
      "version": "3.10.9"
    }
  },
  "nbformat": 4,
  "nbformat_minor": 0
}
