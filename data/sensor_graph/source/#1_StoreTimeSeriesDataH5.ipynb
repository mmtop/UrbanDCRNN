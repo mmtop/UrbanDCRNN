{
 "cells": [
  {
   "cell_type": "code",
   "execution_count": 2,
   "metadata": {},
   "outputs": [],
   "source": [
    "import pandas as pd\n",
    "\n",
    "# Read the data from Aggregated.csv without header\n",
    "df = pd.read_csv('Aggregated_original.csv', delimiter=';', decimal=',', index_col=0, header=None)\n",
    "\n",
    "# Read the column labels from column_labels.csv\n",
    "column_labels = pd.read_csv('column_labels.csv', delimiter=';', decimal=',', header=None)\n",
    "\n",
    "# Set the column names in the data dataframe, excluding the timestamp column name\n",
    "df.columns = column_labels.iloc[0].tolist()\n",
    "\n",
    "df.index.name = None"
   ]
  },
  {
   "cell_type": "code",
   "execution_count": 3,
   "metadata": {},
   "outputs": [
    {
     "name": "stdout",
     "output_type": "stream",
     "text": [
      "Row 204 data:\n",
      "120022     NaN\n",
      "120023     NaN\n",
      "120051     NaN\n",
      "120081     NaN\n",
      "120111     NaN\n",
      "          ... \n",
      "711753     0.0\n",
      "711754     0.0\n",
      "711801     5.0\n",
      "711811    12.0\n",
      "711812     2.0\n",
      "Name: 03/11/2019 03:00, Length: 123, dtype: float64\n",
      "\n",
      "Missing values in row 204:\n",
      "120022   NaN\n",
      "120023   NaN\n",
      "120051   NaN\n",
      "120081   NaN\n",
      "120111   NaN\n",
      "120112   NaN\n",
      "120113   NaN\n",
      "134021   NaN\n",
      "134031   NaN\n",
      "134041   NaN\n",
      "134051   NaN\n",
      "134081   NaN\n",
      "134111   NaN\n",
      "134112   NaN\n",
      "405021   NaN\n",
      "405022   NaN\n",
      "405031   NaN\n",
      "405032   NaN\n",
      "405041   NaN\n",
      "405051   NaN\n",
      "405071   NaN\n",
      "405081   NaN\n",
      "405082   NaN\n",
      "405091   NaN\n",
      "405101   NaN\n",
      "405111   NaN\n",
      "405641   NaN\n",
      "405651   NaN\n",
      "405661   NaN\n",
      "405681   NaN\n",
      "405711   NaN\n",
      "405712   NaN\n",
      "405721   NaN\n",
      "Name: 03/11/2019 03:00, dtype: float64\n"
     ]
    }
   ],
   "source": [
    "# Get the row with index 203 (204th row)\n",
    "row_204 = df.iloc[204]\n",
    "\n",
    "# Print the row and its missing values\n",
    "print(\"Row 204 data:\")\n",
    "print(row_204)\n",
    "print(\"\\nMissing values in row 204:\")\n",
    "print(row_204[row_204.isna()])"
   ]
  },
  {
   "cell_type": "code",
   "execution_count": 6,
   "metadata": {},
   "outputs": [],
   "source": [
    "# Fill missing values with 0\n",
    "# df = df.fillna(0)\n",
    "\n",
    "# Linear interpolation\n",
    "df = df.interpolate(method='linear')"
   ]
  },
  {
   "cell_type": "code",
   "execution_count": 7,
   "metadata": {},
   "outputs": [
    {
     "name": "stdout",
     "output_type": "stream",
     "text": [
      "Row 204 data:\n",
      "120022     0.0\n",
      "120023     0.5\n",
      "120051     7.0\n",
      "120081     1.5\n",
      "120111     8.5\n",
      "          ... \n",
      "711753     0.0\n",
      "711754     0.0\n",
      "711801     5.0\n",
      "711811    12.0\n",
      "711812     2.0\n",
      "Name: 03/11/2019 03:00, Length: 123, dtype: float64\n",
      "\n",
      "Missing values in row 204:\n",
      "Series([], Name: 03/11/2019 03:00, dtype: float64)\n"
     ]
    }
   ],
   "source": [
    "# Get the row with index 203 (204th row)\n",
    "row_204 = df.iloc[204]\n",
    "\n",
    "# Print the row and its missing values\n",
    "print(\"Row 204 data:\")\n",
    "print(row_204)\n",
    "print(\"\\nMissing values in row 204:\")\n",
    "print(row_204[row_204.isna()])"
   ]
  },
  {
   "cell_type": "code",
   "execution_count": 15,
   "metadata": {},
   "outputs": [
    {
     "name": "stdout",
     "output_type": "stream",
     "text": [
      "The dtype of the index column is: object\n"
     ]
    }
   ],
   "source": [
    "# Check the data types of the index column\n",
    "index_dtype = df.index.dtype\n",
    "print(\"The dtype of the index column is:\", index_dtype)\n"
   ]
  },
  {
   "cell_type": "code",
   "execution_count": 16,
   "metadata": {},
   "outputs": [
    {
     "name": "stdout",
     "output_type": "stream",
     "text": [
      "The dtype of the index column is now: datetime64[ns]\n"
     ]
    }
   ],
   "source": [
    "# Convert the index column to datetime64[D] dtype\n",
    "df.index = pd.to_datetime(df.index, format=\"%d/%m/%Y %H:%M\")\n",
    "# Check the new dtype of the index column\n",
    "index_dtype = df.index.dtype\n",
    "print(\"The dtype of the index column is now:\", index_dtype)\n"
   ]
  },
  {
   "cell_type": "code",
   "execution_count": 17,
   "metadata": {},
   "outputs": [
    {
     "name": "stdout",
     "output_type": "stream",
     "text": [
      "Row 204 data:\n",
      "2019-11-03 03:00:00\n"
     ]
    }
   ],
   "source": [
    "# Get the row with index 203 (204th row)\n",
    "row_204 = df.index[204]\n",
    "\n",
    "# Print the row and its missing values\n",
    "print(\"Row 204 data:\")\n",
    "print(row_204)"
   ]
  },
  {
   "cell_type": "code",
   "execution_count": 27,
   "metadata": {},
   "outputs": [],
   "source": [
    "# Save the dataframe into an HDF5 file in the folder two levels up:\n",
    "save_path = '../../'\n",
    "df.to_hdf(save_path + 'DH.h5', key='df', mode='w')"
   ]
  }
 ],
 "metadata": {
  "kernelspec": {
   "display_name": "dcrnn",
   "language": "python",
   "name": "python3"
  },
  "language_info": {
   "codemirror_mode": {
    "name": "ipython",
    "version": 3
   },
   "file_extension": ".py",
   "mimetype": "text/x-python",
   "name": "python",
   "nbconvert_exporter": "python",
   "pygments_lexer": "ipython3",
   "version": "3.10.9"
  },
  "orig_nbformat": 4
 },
 "nbformat": 4,
 "nbformat_minor": 2
}
