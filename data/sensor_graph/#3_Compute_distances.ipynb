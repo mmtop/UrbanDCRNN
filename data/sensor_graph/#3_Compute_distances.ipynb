{
 "cells": [
  {
   "cell_type": "code",
   "execution_count": 1,
   "metadata": {},
   "outputs": [],
   "source": [
    "import osmnx as ox\n",
    "import pandas as pd\n",
    "import pickle"
   ]
  },
  {
   "cell_type": "code",
   "execution_count": 2,
   "metadata": {},
   "outputs": [],
   "source": [
    "# read the sensor locations from the CSV file\n",
    "df = pd.read_csv('denhaag_locations_type.csv')"
   ]
  },
  {
   "cell_type": "code",
   "execution_count": 3,
   "metadata": {},
   "outputs": [],
   "source": [
    "# get the OpenStreetMap road network for the city of The Hague\n",
    "city = 'The Hague, Netherlands'\n",
    "G = ox.graph_from_place(city, network_type='drive')"
   ]
  },
  {
   "cell_type": "code",
   "execution_count": 4,
   "metadata": {},
   "outputs": [],
   "source": [
    "# compute the distances between all pairs of sensors\n",
    "distances = []\n",
    "for i in range(len(df)):\n",
    "    \n",
    "    lat1, lon1, from_code, from_type, from_dir = df.loc[i, ['latitude', 'longitude', 'code', 'type', 'direction']]\n",
    "    orig_node = ox.distance.nearest_nodes(G, lon1, lat1)\n",
    "    \n",
    "    for j in range(i, len(df)):\n",
    "        lat2, lon2, to_code, to_type, to_dir = df.loc[j, ['latitude', 'longitude', 'code', 'type', 'direction']]\n",
    "        dest_node = ox.distance.nearest_nodes(G, lon2, lat2)\n",
    "        \n",
    "        route = ox.shortest_path(G, orig_node, dest_node, weight='length') \n",
    "        distance = sum(ox.utils_graph.get_route_edge_attributes(G, route, 'length')) \n",
    "        distances.append([df.loc[i, 'sensor_id'], df.loc[j, 'sensor_id'], from_code, to_code, from_type, to_type, from_dir, to_dir ,distance])\n",
    "        \n",
    "        if i != j:\n",
    "        \n",
    "            route = ox.shortest_path(G, dest_node, orig_node, weight='length')\n",
    "            distance = sum(ox.utils_graph.get_route_edge_attributes(G, route, 'length'))\n",
    "            distances.append([df.loc[j, 'sensor_id'], df.loc[i, 'sensor_id'], to_code, from_code, to_type, from_type, to_dir, from_dir ,distance])"
   ]
  },
  {
   "cell_type": "code",
   "execution_count": 5,
   "metadata": {},
   "outputs": [],
   "source": [
    "# save into a dataframe and round the distances to 1 decimal\n",
    "df_distances = pd.DataFrame(distances, columns=['from', 'to', 'from_code', 'to_code', 'from_type', 'to_type', 'from_dir', 'to_dir', 'distance' ])\n",
    "df_distances['distance'] = df_distances['distance'].round(1)"
   ]
  },
  {
   "cell_type": "code",
   "execution_count": 6,
   "metadata": {},
   "outputs": [],
   "source": [
    "\n",
    "# pickle the dataframe\n",
    "with open('all_distances.pickle', 'wb') as f:\n",
    "    pickle.dump(df_distances, f)\n",
    "\n",
    "# save the dataframe to a CSV file\n",
    "df_distances.to_csv('denhaag_all_distances.csv', index=False)\n"
   ]
  }
 ],
 "metadata": {
  "kernelspec": {
   "display_name": "dcrnn",
   "language": "python",
   "name": "python3"
  },
  "language_info": {
   "codemirror_mode": {
    "name": "ipython",
    "version": 3
   },
   "file_extension": ".py",
   "mimetype": "text/x-python",
   "name": "python",
   "nbconvert_exporter": "python",
   "pygments_lexer": "ipython3",
   "version": "3.10.9"
  },
  "orig_nbformat": 4
 },
 "nbformat": 4,
 "nbformat_minor": 2
}
